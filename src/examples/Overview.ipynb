{
    "cells": [
        {
            "cell_type": "markdown",
            "id": "38540cf7-9b4f-4c98-9abb-952c84443f1d",
            "metadata": {},
            "source": [
                "# Catanatron Introduction\n",
                "This shows example usage of Catanatron. First, clone the repo and install requirements."
            ]
        },
        {
            "cell_type": "code",
            "execution_count": 1,
            "id": "3be394e4-9bcd-46bb-892b-7538ad3b2e55",
            "metadata": {},
            "outputs": [
                {
                    "name": "stderr",
                    "output_type": "stream",
                    "text": [
                        "& was unexpected at this time.\n",
                        "The value specified in an AutoRun registry key could not be parsed.\n",
                        "Cloning into 'code'...\n"
                    ]
                },
                {
                    "name": "stdout",
                    "output_type": "stream",
                    "text": [
                        "Obtaining file:///C:/Users/sunny/OneDrive/OneDrive%20Desktop/Year4/4G06/catanatron/examples/code\n",
                        "  Installing build dependencies: started\n",
                        "  Installing build dependencies: finished with status 'done'\n",
                        "  Checking if build backend supports build_editable: started\n",
                        "  Checking if build backend supports build_editable: finished with status 'done'\n",
                        "  Getting requirements to build editable: started\n",
                        "  Getting requirements to build editable: finished with status 'done'\n",
                        "  Preparing editable metadata (pyproject.toml): started\n",
                        "  Preparing editable metadata (pyproject.toml): finished with status 'done'\n",
                        "Requirement already satisfied: networkx in c:\\users\\sunny\\miniconda3\\envs\\catanatron-env\\lib\\site-packages (from catanatron==3.3.0) (3.5)\n",
                        "Requirement already satisfied: click in c:\\users\\sunny\\miniconda3\\envs\\catanatron-env\\lib\\site-packages (from catanatron==3.3.0) (8.2.1)\n",
                        "Requirement already satisfied: rich in c:\\users\\sunny\\miniconda3\\envs\\catanatron-env\\lib\\site-packages (from catanatron==3.3.0) (14.1.0)\n",
                        "Requirement already satisfied: gymnasium<=0.29.1 in c:\\users\\sunny\\miniconda3\\envs\\catanatron-env\\lib\\site-packages (from catanatron==3.3.0) (0.29.1)\n",
                        "Requirement already satisfied: numpy in c:\\users\\sunny\\miniconda3\\envs\\catanatron-env\\lib\\site-packages (from catanatron==3.3.0) (2.3.3)\n",
                        "Requirement already satisfied: pandas in c:\\users\\sunny\\miniconda3\\envs\\catanatron-env\\lib\\site-packages (from catanatron==3.3.0) (2.3.2)\n",
                        "Requirement already satisfied: fastparquet in c:\\users\\sunny\\miniconda3\\envs\\catanatron-env\\lib\\site-packages (from catanatron==3.3.0) (2024.11.0)\n",
                        "Requirement already satisfied: gunicorn in c:\\users\\sunny\\miniconda3\\envs\\catanatron-env\\lib\\site-packages (from catanatron==3.3.0) (23.0.0)\n",
                        "Requirement already satisfied: flask in c:\\users\\sunny\\miniconda3\\envs\\catanatron-env\\lib\\site-packages (from catanatron==3.3.0) (3.1.2)\n",
                        "Requirement already satisfied: flask_cors in c:\\users\\sunny\\miniconda3\\envs\\catanatron-env\\lib\\site-packages (from catanatron==3.3.0) (6.0.1)\n",
                        "Requirement already satisfied: flask_sqlalchemy in c:\\users\\sunny\\miniconda3\\envs\\catanatron-env\\lib\\site-packages (from catanatron==3.3.0) (3.1.1)\n",
                        "Requirement already satisfied: sqlalchemy in c:\\users\\sunny\\miniconda3\\envs\\catanatron-env\\lib\\site-packages (from catanatron==3.3.0) (2.0.43)\n",
                        "Requirement already satisfied: psycopg2-binary in c:\\users\\sunny\\miniconda3\\envs\\catanatron-env\\lib\\site-packages (from catanatron==3.3.0) (2.9.10)\n",
                        "Requirement already satisfied: black in c:\\users\\sunny\\miniconda3\\envs\\catanatron-env\\lib\\site-packages (from catanatron==3.3.0) (25.1.0)\n",
                        "Requirement already satisfied: pytest in c:\\users\\sunny\\miniconda3\\envs\\catanatron-env\\lib\\site-packages (from catanatron==3.3.0) (8.4.2)\n",
                        "Requirement already satisfied: pytest-benchmark in c:\\users\\sunny\\miniconda3\\envs\\catanatron-env\\lib\\site-packages (from catanatron==3.3.0) (5.1.0)\n",
                        "Requirement already satisfied: pytest-watch in c:\\users\\sunny\\miniconda3\\envs\\catanatron-env\\lib\\site-packages (from catanatron==3.3.0) (4.2.0)\n",
                        "Requirement already satisfied: coverage in c:\\users\\sunny\\miniconda3\\envs\\catanatron-env\\lib\\site-packages (from catanatron==3.3.0) (7.10.6)\n",
                        "Requirement already satisfied: coveralls in c:\\users\\sunny\\miniconda3\\envs\\catanatron-env\\lib\\site-packages (from catanatron==3.3.0) (4.0.1)\n",
                        "Requirement already satisfied: cloudpickle>=1.2.0 in c:\\users\\sunny\\miniconda3\\envs\\catanatron-env\\lib\\site-packages (from gymnasium<=0.29.1->catanatron==3.3.0) (3.1.1)\n",
                        "Requirement already satisfied: typing-extensions>=4.3.0 in c:\\users\\sunny\\miniconda3\\envs\\catanatron-env\\lib\\site-packages (from gymnasium<=0.29.1->catanatron==3.3.0) (4.15.0)\n",
                        "Requirement already satisfied: farama-notifications>=0.0.1 in c:\\users\\sunny\\miniconda3\\envs\\catanatron-env\\lib\\site-packages (from gymnasium<=0.29.1->catanatron==3.3.0) (0.0.4)\n",
                        "Requirement already satisfied: mypy-extensions>=0.4.3 in c:\\users\\sunny\\miniconda3\\envs\\catanatron-env\\lib\\site-packages (from black->catanatron==3.3.0) (1.1.0)\n",
                        "Requirement already satisfied: packaging>=22.0 in c:\\users\\sunny\\miniconda3\\envs\\catanatron-env\\lib\\site-packages (from black->catanatron==3.3.0) (25.0)\n",
                        "Requirement already satisfied: pathspec>=0.9.0 in c:\\users\\sunny\\miniconda3\\envs\\catanatron-env\\lib\\site-packages (from black->catanatron==3.3.0) (0.12.1)\n",
                        "Requirement already satisfied: platformdirs>=2 in c:\\users\\sunny\\miniconda3\\envs\\catanatron-env\\lib\\site-packages (from black->catanatron==3.3.0) (4.4.0)\n",
                        "Requirement already satisfied: colorama in c:\\users\\sunny\\miniconda3\\envs\\catanatron-env\\lib\\site-packages (from click->catanatron==3.3.0) (0.4.6)\n",
                        "Requirement already satisfied: docopt<0.7.0,>=0.6.1 in c:\\users\\sunny\\miniconda3\\envs\\catanatron-env\\lib\\site-packages (from coveralls->catanatron==3.3.0) (0.6.2)\n",
                        "Requirement already satisfied: requests<3.0.0,>=1.0.0 in c:\\users\\sunny\\miniconda3\\envs\\catanatron-env\\lib\\site-packages (from coveralls->catanatron==3.3.0) (2.32.5)\n",
                        "Requirement already satisfied: charset_normalizer<4,>=2 in c:\\users\\sunny\\miniconda3\\envs\\catanatron-env\\lib\\site-packages (from requests<3.0.0,>=1.0.0->coveralls->catanatron==3.3.0) (3.4.3)\n",
                        "Requirement already satisfied: idna<4,>=2.5 in c:\\users\\sunny\\miniconda3\\envs\\catanatron-env\\lib\\site-packages (from requests<3.0.0,>=1.0.0->coveralls->catanatron==3.3.0) (3.10)\n",
                        "Requirement already satisfied: urllib3<3,>=1.21.1 in c:\\users\\sunny\\miniconda3\\envs\\catanatron-env\\lib\\site-packages (from requests<3.0.0,>=1.0.0->coveralls->catanatron==3.3.0) (2.5.0)\n",
                        "Requirement already satisfied: certifi>=2017.4.17 in c:\\users\\sunny\\miniconda3\\envs\\catanatron-env\\lib\\site-packages (from requests<3.0.0,>=1.0.0->coveralls->catanatron==3.3.0) (2025.8.3)\n",
                        "Requirement already satisfied: cramjam>=2.3 in c:\\users\\sunny\\miniconda3\\envs\\catanatron-env\\lib\\site-packages (from fastparquet->catanatron==3.3.0) (2.11.0)\n",
                        "Requirement already satisfied: fsspec in c:\\users\\sunny\\miniconda3\\envs\\catanatron-env\\lib\\site-packages (from fastparquet->catanatron==3.3.0) (2025.9.0)\n",
                        "Requirement already satisfied: python-dateutil>=2.8.2 in c:\\users\\sunny\\miniconda3\\envs\\catanatron-env\\lib\\site-packages (from pandas->catanatron==3.3.0) (2.9.0.post0)\n",
                        "Requirement already satisfied: pytz>=2020.1 in c:\\users\\sunny\\miniconda3\\envs\\catanatron-env\\lib\\site-packages (from pandas->catanatron==3.3.0) (2025.2)\n",
                        "Requirement already satisfied: tzdata>=2022.7 in c:\\users\\sunny\\miniconda3\\envs\\catanatron-env\\lib\\site-packages (from pandas->catanatron==3.3.0) (2025.2)\n",
                        "Requirement already satisfied: six>=1.5 in c:\\users\\sunny\\miniconda3\\envs\\catanatron-env\\lib\\site-packages (from python-dateutil>=2.8.2->pandas->catanatron==3.3.0) (1.17.0)\n",
                        "Requirement already satisfied: blinker>=1.9.0 in c:\\users\\sunny\\miniconda3\\envs\\catanatron-env\\lib\\site-packages (from flask->catanatron==3.3.0) (1.9.0)\n",
                        "Requirement already satisfied: itsdangerous>=2.2.0 in c:\\users\\sunny\\miniconda3\\envs\\catanatron-env\\lib\\site-packages (from flask->catanatron==3.3.0) (2.2.0)\n",
                        "Requirement already satisfied: jinja2>=3.1.2 in c:\\users\\sunny\\miniconda3\\envs\\catanatron-env\\lib\\site-packages (from flask->catanatron==3.3.0) (3.1.6)\n",
                        "Requirement already satisfied: markupsafe>=2.1.1 in c:\\users\\sunny\\miniconda3\\envs\\catanatron-env\\lib\\site-packages (from flask->catanatron==3.3.0) (3.0.2)\n",
                        "Requirement already satisfied: werkzeug>=3.1.0 in c:\\users\\sunny\\miniconda3\\envs\\catanatron-env\\lib\\site-packages (from flask->catanatron==3.3.0) (3.1.3)\n",
                        "Requirement already satisfied: greenlet>=1 in c:\\users\\sunny\\miniconda3\\envs\\catanatron-env\\lib\\site-packages (from sqlalchemy->catanatron==3.3.0) (3.2.4)\n",
                        "Requirement already satisfied: iniconfig>=1 in c:\\users\\sunny\\miniconda3\\envs\\catanatron-env\\lib\\site-packages (from pytest->catanatron==3.3.0) (2.1.0)\n",
                        "Requirement already satisfied: pluggy<2,>=1.5 in c:\\users\\sunny\\miniconda3\\envs\\catanatron-env\\lib\\site-packages (from pytest->catanatron==3.3.0) (1.6.0)\n",
                        "Requirement already satisfied: pygments>=2.7.2 in c:\\users\\sunny\\miniconda3\\envs\\catanatron-env\\lib\\site-packages (from pytest->catanatron==3.3.0) (2.19.2)\n",
                        "Requirement already satisfied: py-cpuinfo in c:\\users\\sunny\\miniconda3\\envs\\catanatron-env\\lib\\site-packages (from pytest-benchmark->catanatron==3.3.0) (9.0.0)\n",
                        "Requirement already satisfied: watchdog>=0.6.0 in c:\\users\\sunny\\miniconda3\\envs\\catanatron-env\\lib\\site-packages (from pytest-watch->catanatron==3.3.0) (6.0.0)\n",
                        "Requirement already satisfied: markdown-it-py>=2.2.0 in c:\\users\\sunny\\miniconda3\\envs\\catanatron-env\\lib\\site-packages (from rich->catanatron==3.3.0) (4.0.0)\n",
                        "Requirement already satisfied: mdurl~=0.1 in c:\\users\\sunny\\miniconda3\\envs\\catanatron-env\\lib\\site-packages (from markdown-it-py>=2.2.0->rich->catanatron==3.3.0) (0.1.2)\n",
                        "Building wheels for collected packages: catanatron\n",
                        "  Building editable for catanatron (pyproject.toml): started\n",
                        "  Building editable for catanatron (pyproject.toml): finished with status 'done'\n",
                        "  Created wheel for catanatron: filename=catanatron-3.3.0-0.editable-py3-none-any.whl size=16188 sha256=0460740f446c208f1c586a16e56967caa66a28c6616fde9c300ac430d6c1b67e\n",
                        "  Stored in directory: C:\\Users\\sunny\\AppData\\Local\\Temp\\pip-ephem-wheel-cache-rn1paby8\\wheels\\d1\\55\\0c\\0c4e2fd9ebecb088ae761902c3c8152d93b1dd3692b736d2d8\n",
                        "Successfully built catanatron\n",
                        "Installing collected packages: catanatron\n",
                        "  Attempting uninstall: catanatron\n",
                        "    Found existing installation: catanatron 3.3.0\n",
                        "    Uninstalling catanatron-3.3.0:\n",
                        "      Successfully uninstalled catanatron-3.3.0\n",
                        "Successfully installed catanatron-3.3.0\n",
                        "Note: you may need to restart the kernel to use updated packages.\n"
                    ]
                },
                {
                    "name": "stderr",
                    "output_type": "stream",
                    "text": [
                        "& was unexpected at this time.\n",
                        "The value specified in an AutoRun registry key could not be parsed.\n"
                    ]
                }
            ],
            "source": [
                "!git clone https://github.com/bcollazo/catanatron.git code\n",
                "%pip install -e code[web,gym,dev]\n",
                "exit() # Forcefully restart runtime to picks up installed requirements"
            ]
        },
        {
            "cell_type": "markdown",
            "id": "5ef8f5a2-feb0-49d3-a2b5-a9f1c462db5d",
            "metadata": {},
            "source": [
                "Then, you can implement your own bot strategy and pit against some benchmark bots."
            ]
        },
        {
            "cell_type": "code",
            "execution_count": null,
            "id": "ef40e33f-8937-4918-b626-d70a2615e7aa",
            "metadata": {},
            "outputs": [
                {
                    "name": "stdout",
                    "output_type": "stream",
                    "text": [
                        "Color.WHITE\n"
                    ]
                },
                {
                    "ename": "",
                    "evalue": "",
                    "output_type": "error",
                    "traceback": [
                        "\u001b[1;31mThe Kernel crashed while executing code in the current cell or a previous cell. \n",
                        "\u001b[1;31mPlease review the code in the cell(s) to identify a possible cause of the failure. \n",
                        "\u001b[1;31mClick <a href='https://aka.ms/vscodeJupyterKernelCrash'>here</a> for more info. \n",
                        "\u001b[1;31mView Jupyter <a href='command:jupyter.viewOutput'>log</a> for further details."
                    ]
                }
            ],
            "source": [
                "import random\n",
                "\n",
                "from catanatron.game import Game\n",
                "from catanatron.models.player import Player, RandomPlayer, Color\n",
                "from catanatron.players.weighted_random import WeightedRandomPlayer\n",
                "\n",
                "class MyPlayer(Player):\n",
                "    def decide(self, game, playable_actions):\n",
                "        \"\"\"Should return one of the playable_actions.\n",
                "\n",
                "        Args:\n",
                "            game (Game): complete game state. read-only.\n",
                "            playable_actions (Iterable[Action]): options to choose from\n",
                "        Return:\n",
                "            action (Action): Chosen element of playable_actions\n",
                "        \"\"\"\n",
                "        # ===== YOUR CODE HERE =====\n",
                "        # As an example we simply choose a valid action at random:\n",
                "        return random.choice(playable_actions)\n",
                "        # ===== END YOUR CODE =====\n",
                "\n",
                "# Play a simple 4v4 game. Edit MyPlayer with your logic!\n",
                "players = [\n",
                "    MyPlayer(Color.RED),\n",
                "    WeightedRandomPlayer(Color.BLUE),\n",
                "    RandomPlayer(Color.WHITE),\n",
                "    RandomPlayer(Color.ORANGE),\n",
                "]\n",
                "game = Game(players)\n",
                "print(game.play())  # returns winning color"
            ]
        },
        {
            "cell_type": "markdown",
            "id": "cd529f61-6de7-4de1-8e0c-273db6a2de9f",
            "metadata": {},
            "source": [
                "You can also simulate thousands of games to get more statistically significant results:"
            ]
        },
        {
            "cell_type": "code",
            "execution_count": null,
            "id": "e06b3b9c-aa9c-4ec3-9b05-74c5d389d766",
            "metadata": {},
            "outputs": [],
            "source": [
                "from pprint import pprint\n",
                "from catanatron.cli.play import play_batch\n",
                "\n",
                "wins, results_by_player, games = play_batch(10, players)"
            ]
        },
        {
            "cell_type": "markdown",
            "id": "c1e64f53-26dc-40d4-ae7c-1410355617e8",
            "metadata": {},
            "source": [
                "You can inspect the game states in a variety of ways and compute statistics"
            ]
        },
        {
            "cell_type": "code",
            "execution_count": null,
            "id": "34effc30-5cad-4031-aab8-fa91e2d0d1f3",
            "metadata": {},
            "outputs": [],
            "source": [
                "from catanatron.json import GameEncoder\n",
                "from catanatron.features import create_sample_vector, create_sample\n",
                "from catanatron.gym.board_tensor_features import (\n",
                "    create_board_tensor,\n",
                ")\n",
                "\n",
                "game = games[0]  # pick say the first one\n",
                "\n",
                "# 1. Feature dictionary of last state before game ended from REDs perspective. \n",
                "#   See https://catanatron.readthedocs.io/en/latest/catanatron.gym.envs.html#catanatron.gym.envs.catanatron_env.CatanatronEnv.observation_space\n",
                "#   for more information on this representation.\n",
                "# record = create_sample(game, Color.RED)\n",
                "# pprint(record)\n",
                "\n",
                "# 2. Vector (similar to 1) of last state before game ended\n",
                "# vector = create_sample_vector(game, Color.RED)\n",
                "# print(vector)\n",
                "\n",
                "# 3. Board Tensor representation, similar to the one described in https://arxiv.org/abs/2008.07079\n",
                "# tensor = create_board_tensor(game, Color.RED)\n",
                "# print(tensor)\n",
                "\n",
                "# 4. Inspect Python catanatron.state.State class\n",
                "# print(game.state)\n",
                "\n",
                "# 5. JSON Representation (with full action history)\n",
                "game_json = GameEncoder().default(game)\n",
                "pprint(game_json)  # inspect a game state representation"
            ]
        }
    ],
    "metadata": {
        "kernelspec": {
            "display_name": "catanatron-env",
            "language": "python",
            "name": "python3"
        },
        "language_info": {
            "codemirror_mode": {
                "name": "ipython",
                "version": 3
            },
            "file_extension": ".py",
            "mimetype": "text/x-python",
            "name": "python",
            "nbconvert_exporter": "python",
            "pygments_lexer": "ipython3",
            "version": "3.11.13"
        }
    },
    "nbformat": 4,
    "nbformat_minor": 5
}
